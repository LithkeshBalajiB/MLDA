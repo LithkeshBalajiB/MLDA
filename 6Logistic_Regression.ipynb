{
  "nbformat": 4,
  "nbformat_minor": 0,
  "metadata": {
    "colab": {
      "provenance": []
    },
    "kernelspec": {
      "name": "python3",
      "display_name": "Python 3"
    },
    "language_info": {
      "name": "python"
    }
  },
  "cells": [
    {
      "cell_type": "code",
      "execution_count": 4,
      "metadata": {
        "colab": {
          "base_uri": "https://localhost:8080/"
        },
        "id": "TrD83KitW1KL",
        "outputId": "d65d6ff4-1bfc-4d5e-bd03-aa2f0c01cbaa"
      },
      "outputs": [
        {
          "output_type": "stream",
          "name": "stdout",
          "text": [
            "         CO        NO2        SO2       PM2.5        PM10         plant\n",
            "0  3.745401  39.363552  37.364082   74.950537  145.999662   Snake Plant\n",
            "1  9.507143  47.343566  33.291210  112.012016   36.902399   Bamboo Palm\n",
            "2  7.319939  85.454739  17.615391   84.400017   69.327939   Bamboo Palm\n",
            "3  5.986585  34.000439  60.726667   12.495387  132.656127  Spider Plant\n",
            "4  1.560186  86.964968  47.662416   27.837036   96.417869   Bamboo Palm\n",
            "         CO        NO2        SO2       PM2.5        PM10         plant  \\\n",
            "0  3.745401  39.363552  37.364082   74.950537  145.999662   Snake Plant   \n",
            "1  9.507143  47.343566  33.291210  112.012016   36.902399   Bamboo Palm   \n",
            "2  7.319939  85.454739  17.615391   84.400017   69.327939   Bamboo Palm   \n",
            "3  5.986585  34.000439  60.726667   12.495387  132.656127  Spider Plant   \n",
            "4  1.560186  86.964968  47.662416   27.837036   96.417869   Bamboo Palm   \n",
            "\n",
            "   plant_encoded  \n",
            "0              2  \n",
            "1              1  \n",
            "2              1  \n",
            "3              3  \n",
            "4              1  \n",
            "y_test shape: (1000,)\n",
            "y_lr_pred shape: (1000,)\n",
            "1.0\n"
          ]
        },
        {
          "output_type": "stream",
          "name": "stderr",
          "text": [
            "/usr/local/lib/python3.12/dist-packages/sklearn/linear_model/_logistic.py:465: ConvergenceWarning: lbfgs failed to converge (status=1):\n",
            "STOP: TOTAL NO. OF ITERATIONS REACHED LIMIT.\n",
            "\n",
            "Increase the number of iterations (max_iter) or scale the data as shown in:\n",
            "    https://scikit-learn.org/stable/modules/preprocessing.html\n",
            "Please also refer to the documentation for alternative solver options:\n",
            "    https://scikit-learn.org/stable/modules/linear_model.html#logistic-regression\n",
            "  n_iter_i = _check_optimize_result(\n"
          ]
        }
      ],
      "source": [
        "import pandas as pd\n",
        "from sklearn.preprocessing import LabelEncoder\n",
        "from sklearn.model_selection import train_test_split\n",
        "from sklearn.linear_model import LogisticRegression\n",
        "from sklearn.metrics import accuracy_score\n",
        "\n",
        "data=pd.read_csv(\"air_pollution_plant_data.csv\")\n",
        "print(data.head())\n",
        "le=LabelEncoder()\n",
        "data[\"plant_encoded\"]=le.fit_transform(data[\"plant\"]) # Use 'plant' column and create a new encoded column\n",
        "print(data.head())\n",
        "x = data[[\"CO\",\"NO2\",\"SO2\",\"PM2.5\",\"PM10\", \"plant_encoded\"]] # Include the encoded 'plant' column in features\n",
        "x.head()\n",
        "y=data[\"plant\"] # Target variable seems to be 'plant' based on the data\n",
        "x.head()\n",
        "x_train,x_test,y_train,y_test=train_test_split(x,y,test_size=0.2,random_state=2)\n",
        "lr = LogisticRegression(max_iter=1000)\n",
        "lr.fit(x_train,y_train)\n",
        "y_lr_pred=lr.predict(x_test)\n",
        "print(\"y_test shape:\", y_test.shape)\n",
        "print(\"y_lr_pred shape:\", y_lr_pred.shape)\n",
        "accuracy_lr=accuracy_score(y_test,y_lr_pred)\n",
        "print(accuracy_lr)"
      ]
    }
  ]
}