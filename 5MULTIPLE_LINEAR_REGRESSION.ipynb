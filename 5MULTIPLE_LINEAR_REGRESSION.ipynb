{
  "nbformat": 4,
  "nbformat_minor": 0,
  "metadata": {
    "colab": {
      "provenance": []
    },
    "kernelspec": {
      "name": "python3",
      "display_name": "Python 3"
    },
    "language_info": {
      "name": "python"
    }
  },
  "cells": [
    {
      "cell_type": "code",
      "execution_count": 5,
      "metadata": {
        "colab": {
          "base_uri": "https://localhost:8080/"
        },
        "id": "A4yleZsuViRm",
        "outputId": "65dd125e-9233-43aa-a1a4-62d26a86c955"
      },
      "outputs": [
        {
          "output_type": "stream",
          "name": "stdout",
          "text": [
            "         CO        NO2        SO2       PM2.5        PM10         plant\n",
            "0  3.745401  39.363552  37.364082   74.950537  145.999662   Snake Plant\n",
            "1  9.507143  47.343566  33.291210  112.012016   36.902399   Bamboo Palm\n",
            "2  7.319939  85.454739  17.615391   84.400017   69.327939   Bamboo Palm\n",
            "3  5.986585  34.000439  60.726667   12.495387  132.656127  Spider Plant\n",
            "4  1.560186  86.964968  47.662416   27.837036   96.417869   Bamboo Palm\n",
            "         CO        NO2        SO2       PM2.5        PM10  plant\n",
            "0  3.745401  39.363552  37.364082   74.950537  145.999662      2\n",
            "1  9.507143  47.343566  33.291210  112.012016   36.902399      1\n",
            "2  7.319939  85.454739  17.615391   84.400017   69.327939      1\n",
            "3  5.986585  34.000439  60.726667   12.495387  132.656127      3\n",
            "4  1.560186  86.964968  47.662416   27.837036   96.417869      1\n",
            "Linear Regression MSE: 8.020355065317913\n",
            "Linear Regression R2: 0.0004647503309729295\n"
          ]
        }
      ],
      "source": [
        "import pandas as pd\n",
        "from sklearn.preprocessing import LabelEncoder\n",
        "from sklearn.model_selection import train_test_split\n",
        "from sklearn.linear_model import LinearRegression\n",
        "from sklearn.metrics import mean_squared_error,r2_score\n",
        "data=pd.read_csv(\"air_pollution_plant_data.csv\")\n",
        "print(data.head())\n",
        "le=LabelEncoder()\n",
        "data[\"plant\"]=le.fit_transform(data[\"plant\"])\n",
        "print(data.head())\n",
        "x = data[[\"NO2\",\"SO2\",\n",
        "          \"PM2.5\",\"PM10\"]]\n",
        "\n",
        "x.head()\n",
        "y=data[\"CO\"]\n",
        "x.head()\n",
        "x_train,x_test,y_train,y_test=train_test_split(x,y,test_size=0.2,random_state=2)\n",
        "\n",
        "lrr = LinearRegression()\n",
        "lrr.fit(x_train, y_train)\n",
        "y_lrr_pred = lrr.predict(x_test)\n",
        "\n",
        "mse = mean_squared_error(y_test, y_lrr_pred)\n",
        "r2 = r2_score(y_test, y_lrr_pred)\n",
        "\n",
        "print(\"Linear Regression MSE:\", mse)\n",
        "print(\"Linear Regression R2:\", r2)"
      ]
    }
  ]
}