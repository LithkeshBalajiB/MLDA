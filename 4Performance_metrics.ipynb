{
  "nbformat": 4,
  "nbformat_minor": 0,
  "metadata": {
    "colab": {
      "provenance": []
    },
    "kernelspec": {
      "name": "python3",
      "display_name": "Python 3"
    },
    "language_info": {
      "name": "python"
    }
  },
  "cells": [
    {
      "cell_type": "code",
      "execution_count": 6,
      "metadata": {
        "colab": {
          "base_uri": "https://localhost:8080/"
        },
        "id": "Dd7tzz5qTNXj",
        "outputId": "87967371-9eaf-454c-8100-3c73f8947066"
      },
      "outputs": [
        {
          "output_type": "stream",
          "name": "stdout",
          "text": [
            "         CO        NO2        SO2       PM2.5        PM10         plant\n",
            "0  3.745401  39.363552  37.364082   74.950537  145.999662   Snake Plant\n",
            "1  9.507143  47.343566  33.291210  112.012016   36.902399   Bamboo Palm\n",
            "2  7.319939  85.454739  17.615391   84.400017   69.327939   Bamboo Palm\n",
            "3  5.986585  34.000439  60.726667   12.495387  132.656127  Spider Plant\n",
            "4  1.560186  86.964968  47.662416   27.837036   96.417869   Bamboo Palm\n",
            "         CO        NO2        SO2       PM2.5        PM10         plant\n",
            "0  3.745401  39.363552  37.364082   74.950537  145.999662   Snake Plant\n",
            "1  9.507143  47.343566  33.291210  112.012016   36.902399   Bamboo Palm\n",
            "2  7.319939  85.454739  17.615391   84.400017   69.327939   Bamboo Palm\n",
            "3  5.986585  34.000439  60.726667   12.495387  132.656127  Spider Plant\n",
            "4  1.560186  86.964968  47.662416   27.837036   96.417869   Bamboo Palm\n",
            "Accuracy (for predicting plant type): 0.569\n",
            "Linear Regression MSE (for predicting NO2): 831.234441375767\n",
            "Linear Regression R2 (for predicting NO2): -0.0035691544391065477\n"
          ]
        }
      ],
      "source": [
        "import pandas as pd\n",
        "from sklearn.preprocessing import LabelEncoder\n",
        "from sklearn.model_selection import train_test_split\n",
        "from sklearn.tree import DecisionTreeClassifier\n",
        "from sklearn.linear_model import LinearRegression\n",
        "from sklearn.metrics import accuracy_score,mean_squared_error, r2_score\n",
        "data=pd.read_csv(\"air_pollution_plant_data.csv\")\n",
        "print(data.head())\n",
        "le=LabelEncoder()\n",
        "# Removed the line attempting to encode 'salary' as it does not exist in the data\n",
        "# data[\"salary\"]=le.fit_transform(data[\"salary\"])\n",
        "print(data.head())\n",
        "# Updated the feature list to include only existing columns\n",
        "x = data[[\"CO\",\"SO2\",\n",
        "          \"PM2.5\",\"PM10\"]] # Removed 'NO2' from features as it is the target\n",
        "x.head()\n",
        "\n",
        "# Since the user wants both accuracy (for classification) and\n",
        "# regression metrics (for a numerical target), I will define two\n",
        "# different target variables and split the data twice.\n",
        "\n",
        "y_plant = data[\"plant\"] # Target for classification\n",
        "y_no2 = data[\"NO2\"]     # Target for regression\n",
        "\n",
        "# Split data for Decision Tree (classification)\n",
        "x_train_plant, x_test_plant, y_train_plant, y_test_plant = train_test_split(x, y_plant, test_size=0.2, random_state=2)\n",
        "\n",
        "# Split data for Linear Regression (regression)\n",
        "x_train_no2, x_test_no2, y_train_no2, y_test_no2 = train_test_split(x, y_no2, test_size=0.2, random_state=2)\n",
        "\n",
        "\n",
        "# Decision Tree (for predicting 'plant')\n",
        "dt=DecisionTreeClassifier(criterion=\"entropy\")\n",
        "dt.fit(x_train_plant,y_train_plant)\n",
        "y_dt_pred=dt.predict(x_test_plant)\n",
        "accuracy_dt=accuracy_score(y_test_plant,y_dt_pred)\n",
        "print(\"Accuracy (for predicting plant type):\",accuracy_dt)\n",
        "\n",
        "# Linear Regression (for predicting 'NO2')\n",
        "lrr = LinearRegression()\n",
        "lrr.fit(x_train_no2, y_train_no2)\n",
        "y_lrr_pred = lrr.predict(x_test_no2)\n",
        "\n",
        "mse = mean_squared_error(y_test_no2, y_lrr_pred)\n",
        "r2 = r2_score(y_test_no2, y_lrr_pred)\n",
        "\n",
        "print(\"Linear Regression MSE (for predicting NO2):\", mse)\n",
        "print(\"Linear Regression R2 (for predicting NO2):\", r2)"
      ]
    }
  ]
}